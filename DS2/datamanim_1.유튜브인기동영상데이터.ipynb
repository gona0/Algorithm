{
 "cells": [
  {
   "cell_type": "code",
   "execution_count": 2,
   "id": "365d46f4-2de0-4468-9233-62098e34725d",
   "metadata": {},
   "outputs": [],
   "source": [
    "import pandas as pd\n",
    "import numpy as np"
   ]
  },
  {
   "cell_type": "code",
   "execution_count": 5,
   "id": "54abe3dd-d222-4abe-af92-94abd1740fde",
   "metadata": {},
   "outputs": [],
   "source": [
    "df = pd.read_csv(\"https://raw.githubusercontent.com/Datamanim/datarepo/main/youtube/youtube.csv\")"
   ]
  },
  {
   "cell_type": "code",
   "execution_count": 6,
   "id": "c4fa6c25-9525-40dc-b7cf-b5dc281fd7e9",
   "metadata": {},
   "outputs": [
    {
     "data": {
      "text/html": [
       "<div>\n",
       "<style scoped>\n",
       "    .dataframe tbody tr th:only-of-type {\n",
       "        vertical-align: middle;\n",
       "    }\n",
       "\n",
       "    .dataframe tbody tr th {\n",
       "        vertical-align: top;\n",
       "    }\n",
       "\n",
       "    .dataframe thead th {\n",
       "        text-align: right;\n",
       "    }\n",
       "</style>\n",
       "<table border=\"1\" class=\"dataframe\">\n",
       "  <thead>\n",
       "    <tr style=\"text-align: right;\">\n",
       "      <th></th>\n",
       "      <th>Unnamed: 0</th>\n",
       "      <th>title</th>\n",
       "      <th>channelTitle</th>\n",
       "      <th>categoryId</th>\n",
       "      <th>view_count</th>\n",
       "      <th>likes</th>\n",
       "      <th>dislikes</th>\n",
       "      <th>comment_count</th>\n",
       "      <th>channelId</th>\n",
       "      <th>trending_date2</th>\n",
       "    </tr>\n",
       "  </thead>\n",
       "  <tbody>\n",
       "    <tr>\n",
       "      <th>0</th>\n",
       "      <td>0</td>\n",
       "      <td>[신병] 물자창고</td>\n",
       "      <td>장삐쭈</td>\n",
       "      <td>23</td>\n",
       "      <td>1893473</td>\n",
       "      <td>38249</td>\n",
       "      <td>730</td>\n",
       "      <td>8595</td>\n",
       "      <td>UChbE5OZQ6dRHECsX0tEPEZQ</td>\n",
       "      <td>2021-01-01</td>\n",
       "    </tr>\n",
       "    <tr>\n",
       "      <th>1</th>\n",
       "      <td>1</td>\n",
       "      <td>RAIN(비) - 나로 바꾸자 Switch to me (duet with JYP) MV</td>\n",
       "      <td>RAIN's Official Channel</td>\n",
       "      <td>10</td>\n",
       "      <td>2600864</td>\n",
       "      <td>0</td>\n",
       "      <td>0</td>\n",
       "      <td>20129</td>\n",
       "      <td>UCxXgIeE5hxWxHG6dz9Scg2w</td>\n",
       "      <td>2021-01-01</td>\n",
       "    </tr>\n",
       "    <tr>\n",
       "      <th>2</th>\n",
       "      <td>2</td>\n",
       "      <td>2020년 제야의 종 온라인 타종행사 | 보신각 현장 행사는 진행하지 않습니다.</td>\n",
       "      <td>서울시 · Seoul</td>\n",
       "      <td>29</td>\n",
       "      <td>347049</td>\n",
       "      <td>3564</td>\n",
       "      <td>120</td>\n",
       "      <td>178</td>\n",
       "      <td>UCZUPZW5idAxYp-Asj__lVAA</td>\n",
       "      <td>2021-01-01</td>\n",
       "    </tr>\n",
       "    <tr>\n",
       "      <th>3</th>\n",
       "      <td>3</td>\n",
       "      <td>고기남자의 칠면조 파티</td>\n",
       "      <td>고기남자 MeatMan</td>\n",
       "      <td>26</td>\n",
       "      <td>528458</td>\n",
       "      <td>15372</td>\n",
       "      <td>280</td>\n",
       "      <td>3470</td>\n",
       "      <td>UCT3CumbFIJiW33uq0UI3zlg</td>\n",
       "      <td>2021-01-01</td>\n",
       "    </tr>\n",
       "    <tr>\n",
       "      <th>4</th>\n",
       "      <td>4</td>\n",
       "      <td>골목 3mc를 분노하게 만든 마음고생이 심했을 공릉 백반집 사장님의 푸념?! [예능...</td>\n",
       "      <td>스브스밥집</td>\n",
       "      <td>24</td>\n",
       "      <td>494904</td>\n",
       "      <td>3918</td>\n",
       "      <td>111</td>\n",
       "      <td>3142</td>\n",
       "      <td>UCdWgRSfttvDucq4ApcCg5Mw</td>\n",
       "      <td>2021-01-01</td>\n",
       "    </tr>\n",
       "  </tbody>\n",
       "</table>\n",
       "</div>"
      ],
      "text/plain": [
       "   Unnamed: 0                                              title  \\\n",
       "0           0                                          [신병] 물자창고   \n",
       "1           1   RAIN(비) - 나로 바꾸자 Switch to me (duet with JYP) MV   \n",
       "2           2       2020년 제야의 종 온라인 타종행사 | 보신각 현장 행사는 진행하지 않습니다.   \n",
       "3           3                                       고기남자의 칠면조 파티   \n",
       "4           4  골목 3mc를 분노하게 만든 마음고생이 심했을 공릉 백반집 사장님의 푸념?! [예능...   \n",
       "\n",
       "              channelTitle  categoryId  view_count  likes  dislikes  \\\n",
       "0                      장삐쭈          23     1893473  38249       730   \n",
       "1  RAIN's Official Channel          10     2600864      0         0   \n",
       "2              서울시 · Seoul          29      347049   3564       120   \n",
       "3             고기남자 MeatMan          26      528458  15372       280   \n",
       "4                    스브스밥집          24      494904   3918       111   \n",
       "\n",
       "   comment_count                 channelId trending_date2  \n",
       "0           8595  UChbE5OZQ6dRHECsX0tEPEZQ     2021-01-01  \n",
       "1          20129  UCxXgIeE5hxWxHG6dz9Scg2w     2021-01-01  \n",
       "2            178  UCZUPZW5idAxYp-Asj__lVAA     2021-01-01  \n",
       "3           3470  UCT3CumbFIJiW33uq0UI3zlg     2021-01-01  \n",
       "4           3142  UCdWgRSfttvDucq4ApcCg5Mw     2021-01-01  "
      ]
     },
     "execution_count": 6,
     "metadata": {},
     "output_type": "execute_result"
    }
   ],
   "source": [
    "df.head()"
   ]
  },
  {
   "cell_type": "code",
   "execution_count": 14,
   "id": "18feb7ce-1b49-4d0c-b606-48ce0e64396b",
   "metadata": {},
   "outputs": [
    {
     "data": {
      "text/plain": [
       "['짤툰',\n",
       " '파뿌리',\n",
       " 'SPOTV',\n",
       " '런닝맨 - 스브스 공식 채널',\n",
       " '엠뚜루마뚜루 : MBC 공식 종합 채널',\n",
       " '장삐쭈',\n",
       " 'BANGTANTV',\n",
       " '채널 십오야',\n",
       " '이과장',\n",
       " '총몇명']"
      ]
     },
     "execution_count": 14,
     "metadata": {},
     "output_type": "execute_result"
    }
   ],
   "source": [
    "list(df.groupby(\"channelTitle\").count().sort_values(\"title\", ascending=False).head(10).index)"
   ]
  },
  {
   "cell_type": "code",
   "execution_count": 21,
   "id": "6eb6fd33-e796-42e0-805e-24dff4d4cb24",
   "metadata": {},
   "outputs": [
    {
     "data": {
      "text/plain": [
       "['핫도그TV',\n",
       " 'ASMR 애정TV',\n",
       " '하얀트리HayanTree',\n",
       " '양팡 YangPang',\n",
       " '철구형 (CHULTUBE)',\n",
       " '왜냐맨하우스',\n",
       " '(MUTUBE)와꾸대장봉준',\n",
       " '오메킴TV',\n",
       " '육지담',\n",
       " 'MapleStory_KR',\n",
       " 'ROAD FIGHTING CHAMPIONSHIP',\n",
       " '사나이 김기훈',\n",
       " '나혼자산다 STUDIO',\n",
       " 'Gen.G esports']"
      ]
     },
     "execution_count": 21,
     "metadata": {},
     "output_type": "execute_result"
    }
   ],
   "source": [
    "list(df[df[\"dislikes\"] > df[\"likes\"]][\"channelTitle\"].unique())"
   ]
  },
  {
   "cell_type": "code",
   "execution_count": 40,
   "id": "87f60d5f-c3b0-4e8f-96bc-6e1b710bc238",
   "metadata": {},
   "outputs": [
    {
     "data": {
      "text/plain": [
       "71"
      ]
     },
     "execution_count": 40,
     "metadata": {},
     "output_type": "execute_result"
    }
   ],
   "source": [
    "ans3 = list()\n",
    "channelId_uniqueness = df.groupby(\"channelId\")[\"channelTitle\"].nunique()\n",
    "type(channelId_uniqueness)\n",
    "for index, value in zip(channelId_uniqueness.index, channelId_uniqueness):\n",
    "    if (value == 1):\n",
    "        continue\n",
    "    ans3.append(index)\n",
    "\n",
    "len(ans3)"
   ]
  },
  {
   "cell_type": "code",
   "execution_count": 41,
   "id": "9c7a81f0-5806-4079-9993-91704724d5c9",
   "metadata": {},
   "outputs": [],
   "source": [
    "df[\"trending_date_new\"] = pd.to_datetime(df[\"trending_date2\"])"
   ]
  },
  {
   "cell_type": "code",
   "execution_count": 59,
   "id": "7de9ba89-3d45-4eda-8481-ac2df1cdcde2",
   "metadata": {},
   "outputs": [
    {
     "data": {
      "text/plain": [
       "24"
      ]
     },
     "execution_count": 59,
     "metadata": {},
     "output_type": "execute_result"
    }
   ],
   "source": [
    "df[df[\"trending_date_new\"].dt.day_name() == \"Sunday\"].groupby(\"categoryId\").count().sort_values(\"title\", ascending=False).index[0]"
   ]
  },
  {
   "cell_type": "code",
   "execution_count": 80,
   "id": "f5301d90-07c5-4742-86bd-6fe6ef045f1a",
   "metadata": {},
   "outputs": [
    {
     "data": {
      "text/html": [
       "<div>\n",
       "<style scoped>\n",
       "    .dataframe tbody tr th:only-of-type {\n",
       "        vertical-align: middle;\n",
       "    }\n",
       "\n",
       "    .dataframe tbody tr th {\n",
       "        vertical-align: top;\n",
       "    }\n",
       "\n",
       "    .dataframe thead th {\n",
       "        text-align: right;\n",
       "    }\n",
       "</style>\n",
       "<table border=\"1\" class=\"dataframe\">\n",
       "  <thead>\n",
       "    <tr style=\"text-align: right;\">\n",
       "      <th></th>\n",
       "      <th>Sunday</th>\n",
       "      <th>Monday</th>\n",
       "      <th>Tuesday</th>\n",
       "      <th>Wednesday</th>\n",
       "      <th>Thursday</th>\n",
       "      <th>Friday</th>\n",
       "      <th>Saturday</th>\n",
       "    </tr>\n",
       "    <tr>\n",
       "      <th>categoryId</th>\n",
       "      <th></th>\n",
       "      <th></th>\n",
       "      <th></th>\n",
       "      <th></th>\n",
       "      <th></th>\n",
       "      <th></th>\n",
       "      <th></th>\n",
       "    </tr>\n",
       "  </thead>\n",
       "  <tbody>\n",
       "    <tr>\n",
       "      <th>1</th>\n",
       "      <td>274</td>\n",
       "      <td>263</td>\n",
       "      <td>257</td>\n",
       "      <td>234</td>\n",
       "      <td>246</td>\n",
       "      <td>243</td>\n",
       "      <td>255</td>\n",
       "    </tr>\n",
       "    <tr>\n",
       "      <th>2</th>\n",
       "      <td>99</td>\n",
       "      <td>105</td>\n",
       "      <td>119</td>\n",
       "      <td>129</td>\n",
       "      <td>128</td>\n",
       "      <td>120</td>\n",
       "      <td>119</td>\n",
       "    </tr>\n",
       "    <tr>\n",
       "      <th>10</th>\n",
       "      <td>830</td>\n",
       "      <td>837</td>\n",
       "      <td>894</td>\n",
       "      <td>917</td>\n",
       "      <td>890</td>\n",
       "      <td>833</td>\n",
       "      <td>776</td>\n",
       "    </tr>\n",
       "    <tr>\n",
       "      <th>15</th>\n",
       "      <td>217</td>\n",
       "      <td>215</td>\n",
       "      <td>208</td>\n",
       "      <td>207</td>\n",
       "      <td>207</td>\n",
       "      <td>187</td>\n",
       "      <td>198</td>\n",
       "    </tr>\n",
       "    <tr>\n",
       "      <th>17</th>\n",
       "      <td>636</td>\n",
       "      <td>668</td>\n",
       "      <td>708</td>\n",
       "      <td>706</td>\n",
       "      <td>682</td>\n",
       "      <td>633</td>\n",
       "      <td>592</td>\n",
       "    </tr>\n",
       "    <tr>\n",
       "      <th>19</th>\n",
       "      <td>91</td>\n",
       "      <td>92</td>\n",
       "      <td>89</td>\n",
       "      <td>85</td>\n",
       "      <td>92</td>\n",
       "      <td>90</td>\n",
       "      <td>87</td>\n",
       "    </tr>\n",
       "    <tr>\n",
       "      <th>20</th>\n",
       "      <td>289</td>\n",
       "      <td>298</td>\n",
       "      <td>285</td>\n",
       "      <td>291</td>\n",
       "      <td>282</td>\n",
       "      <td>283</td>\n",
       "      <td>296</td>\n",
       "    </tr>\n",
       "    <tr>\n",
       "      <th>22</th>\n",
       "      <td>1337</td>\n",
       "      <td>1373</td>\n",
       "      <td>1375</td>\n",
       "      <td>1333</td>\n",
       "      <td>1341</td>\n",
       "      <td>1288</td>\n",
       "      <td>1289</td>\n",
       "    </tr>\n",
       "    <tr>\n",
       "      <th>23</th>\n",
       "      <td>556</td>\n",
       "      <td>594</td>\n",
       "      <td>569</td>\n",
       "      <td>566</td>\n",
       "      <td>560</td>\n",
       "      <td>568</td>\n",
       "      <td>570</td>\n",
       "    </tr>\n",
       "    <tr>\n",
       "      <th>24</th>\n",
       "      <td>3096</td>\n",
       "      <td>3148</td>\n",
       "      <td>3084</td>\n",
       "      <td>3090</td>\n",
       "      <td>2954</td>\n",
       "      <td>2976</td>\n",
       "      <td>3066</td>\n",
       "    </tr>\n",
       "    <tr>\n",
       "      <th>25</th>\n",
       "      <td>437</td>\n",
       "      <td>453</td>\n",
       "      <td>452</td>\n",
       "      <td>468</td>\n",
       "      <td>470</td>\n",
       "      <td>444</td>\n",
       "      <td>422</td>\n",
       "    </tr>\n",
       "    <tr>\n",
       "      <th>26</th>\n",
       "      <td>363</td>\n",
       "      <td>378</td>\n",
       "      <td>394</td>\n",
       "      <td>385</td>\n",
       "      <td>375</td>\n",
       "      <td>369</td>\n",
       "      <td>364</td>\n",
       "    </tr>\n",
       "    <tr>\n",
       "      <th>27</th>\n",
       "      <td>199</td>\n",
       "      <td>205</td>\n",
       "      <td>194</td>\n",
       "      <td>212</td>\n",
       "      <td>194</td>\n",
       "      <td>183</td>\n",
       "      <td>183</td>\n",
       "    </tr>\n",
       "    <tr>\n",
       "      <th>28</th>\n",
       "      <td>167</td>\n",
       "      <td>160</td>\n",
       "      <td>161</td>\n",
       "      <td>165</td>\n",
       "      <td>166</td>\n",
       "      <td>171</td>\n",
       "      <td>173</td>\n",
       "    </tr>\n",
       "    <tr>\n",
       "      <th>29</th>\n",
       "      <td>9</td>\n",
       "      <td>10</td>\n",
       "      <td>11</td>\n",
       "      <td>12</td>\n",
       "      <td>13</td>\n",
       "      <td>12</td>\n",
       "      <td>10</td>\n",
       "    </tr>\n",
       "  </tbody>\n",
       "</table>\n",
       "</div>"
      ],
      "text/plain": [
       "            Sunday  Monday  Tuesday  Wednesday  Thursday  Friday  Saturday\n",
       "categoryId                                                                \n",
       "1              274     263      257        234       246     243       255\n",
       "2               99     105      119        129       128     120       119\n",
       "10             830     837      894        917       890     833       776\n",
       "15             217     215      208        207       207     187       198\n",
       "17             636     668      708        706       682     633       592\n",
       "19              91      92       89         85        92      90        87\n",
       "20             289     298      285        291       282     283       296\n",
       "22            1337    1373     1375       1333      1341    1288      1289\n",
       "23             556     594      569        566       560     568       570\n",
       "24            3096    3148     3084       3090      2954    2976      3066\n",
       "25             437     453      452        468       470     444       422\n",
       "26             363     378      394        385       375     369       364\n",
       "27             199     205      194        212       194     183       183\n",
       "28             167     160      161        165       166     171       173\n",
       "29               9      10       11         12        13      12        10"
      ]
     },
     "execution_count": 80,
     "metadata": {},
     "output_type": "execute_result"
    }
   ],
   "source": [
    "df5 = df[[\"trending_date_new\", \"categoryId\"]].copy()\n",
    "df5_new = pd.DataFrame()\n",
    "day_list = [\"Sunday\", \"Monday\", \"Tuesday\", \"Wednesday\", \"Thursday\", \"Friday\", \"Saturday\"]\n",
    "\n",
    "for day in day_list:\n",
    "    df5_new[day] = df5[df5[\"trending_date_new\"].dt.day_name() == day].groupby(\"categoryId\").count()\n",
    "\n",
    "df5_new"
   ]
  },
  {
   "cell_type": "code",
   "execution_count": 114,
   "id": "0b5e19aa-5d04-4d69-ac99-d534122d735f",
   "metadata": {},
   "outputs": [
    {
     "data": {
      "text/plain": [
       "'60분 동안 댓글이 달리지 않으면, 영상이 삭제됩니다. (챌린지)'"
      ]
     },
     "execution_count": 114,
     "metadata": {},
     "output_type": "execute_result"
    }
   ],
   "source": [
    "df6 = df[df[\"view_count\"] > 0].copy()\n",
    "df6[\"ans6\"] = df6[\"comment_count\"]/df6[\"view_count\"]\n",
    "df6_1 = df6.sort_values(\"ans6\", ascending=False)\n",
    "df6_1.iloc[0][\"title\"]"
   ]
  },
  {
   "cell_type": "code",
   "execution_count": 117,
   "id": "0619b344-bc78-4f26-b782-b81c431a3ad6",
   "metadata": {},
   "outputs": [
    {
     "data": {
      "text/plain": [
       "'After We Ride (술버릇 (운전만해 그후))'"
      ]
     },
     "execution_count": 117,
     "metadata": {},
     "output_type": "execute_result"
    }
   ],
   "source": [
    "df6_2 = df6.sort_values(\"ans6\")\n",
    "df6_2.iloc[0][\"title\"]"
   ]
  },
  {
   "cell_type": "code",
   "execution_count": 121,
   "id": "6d223e8f-bb4e-4d0d-b2a7-9d0dc076314e",
   "metadata": {},
   "outputs": [
    {
     "data": {
      "text/plain": [
       "'[줌터뷰] *최초공개* 사부작즈🐰🐶의 비공식 이름은 아이라인즈? 꿀조합 티키타카 가득한 NCT 127 도영&정우의 줌터뷰'"
      ]
     },
     "execution_count": 121,
     "metadata": {},
     "output_type": "execute_result"
    }
   ],
   "source": [
    "df8 = df[(df[\"likes\"] != 0) & (df[\"dislikes\"] != 0)].copy()\n",
    "df8[\"ans8\"] = df8[\"dislikes\"] / df8[\"likes\"]\n",
    "df8.sort_values(\"ans8\").iloc[0][\"title\"]"
   ]
  },
  {
   "cell_type": "code",
   "execution_count": 134,
   "id": "51680462-496f-4fb0-80da-0cdf16d57e06",
   "metadata": {},
   "outputs": [
    {
     "data": {
      "text/plain": [
       "'짤툰'"
      ]
     },
     "execution_count": 134,
     "metadata": {},
     "output_type": "execute_result"
    }
   ],
   "source": [
    "df.groupby(\"channelTitle\").size().sort_values(ascending=False).index[0]"
   ]
  },
  {
   "cell_type": "code",
   "execution_count": 148,
   "id": "be9ae443-e4dd-41b3-bc2d-af09d6f5a663",
   "metadata": {},
   "outputs": [
    {
     "data": {
      "text/plain": [
       "title\n",
       "#shorts ｜김계란님 들고 더블폴                                                                              22\n",
       "(EN/JP/IN) 하이브가 JYP, SM 제치고 1위한 이것은? 입구컷 당했던 ⭐빅히트⭐ 진짜 다녀왔습니다🔥ㅣ와썹맨 ep.44ㅣ박준형                       20\n",
       "2주더놀릴예정                                                                                           23\n",
       "BTS performs ‘Dynamite’ l GMA                                                                     21\n",
       "EXO 엑소 'Don't fight the feeling' MV                                                               20\n",
       "Go Back (고백)                                                                                      42\n",
       "MBN 뉴스파이터-친구 휴대전화 주운 환경미화원 인터뷰                                                                    21\n",
       "SUB)7년만에 처음으로 권태기 고백했더니 사랑꾼 남친반응ㅜㅜ가슴아픔주의😭 헤각장! We lost our spark.. BF PRANK                       20\n",
       "[#습핫습핫] 표정은 왜 그러는지 모르겠는 천서진의 우당탕탕 감🍞 생활 | 펜트하우스3(Penthouse3) | SBS DRAMA                          20\n",
       "[20/21 UCL 결승] 맨시티 vs 첼시 H/L                                                                      21\n",
       "[4K] 헤이즈(Heize)의 킬링벌스를 라이브로! l 비도 오고 그래서, 돌아오지마, 널 너무 모르고, Jenga, 저 별, And July, 교통정리, 헤픈 우연 등    20\n",
       "[놀면 뭐하니?] 9년 만에 맛보는 유부장님의 손맛👏 보고싶었어요 정과장💖ㅣ#정준하 #유본부장 #엠뚜루마뚜루 MBC210529방송                          20\n",
       "[도장TV 8회] 수박먹는 하영이^^;;                                                                            22\n",
       "[상추무침]상추!아직도 생으로 무치나요?시금치무침보다 훨씬 맛있는 밑반찬  상추나물 고추장무침!                                             20\n",
       "[안방1열 직캠4K] 에스파 'Next Level' 풀캠 (aespa Full Cam)│@SBS Inkigayo_2021.05.30.                        21\n",
       "[진돗개 진솔쓰] 차박 일기. #Shorts                                                                          22\n",
       "[짐승친구들] 예비군                                                                                       22\n",
       "[충격] 비단잉어가 먹히는 현장... 왜가리 때문에 연못 시즌 종료...                                                          20\n",
       "계속 저어줄 필요없어요. 냄비에 넣고 10분이면 끝. 매일 먹었더니,  운동 안 해도 살이 계속 빠져요!                                        20\n",
       "극과 극을 살고 있는 인도의 갑부와 빈곤층들!                                                                         23\n",
       "당신이 절대 '하얀색 신종 컵라면'을 알 수 없는 이유(마지막 소름 주의)                                                         21\n",
       "대박... 멧돼지를 아들로 삼은 할아버지｜KBS 주주클럽 050410 방송                                                         23\n",
       "대한민국 VS 투르크메니스탄 : FIFA 카타르 월드컵 2차 예선 하이라이트 - 2021.06.05                                           24\n",
       "릴카...제로투                                                                                          21\n",
       "마술사의 마술을 타짜가 알아차릴 수 있을까..? ㅋㅋㅋㅋ                                                                   21\n",
       "밤낮으로 우리집 비번 눌러대는 길고양이 좀 어떻게 해주세요ㅣStray Cat Enters A Door Lock Code Every Day                      22\n",
       "방송 인생 최초로 여친이랑 합방했습니다                                                                             20\n",
       "뱃살 아랫뱃살 최고의 운동                                                                                    21\n",
       "알고보니 유명인이 만들어낸 밈들 : 이걸 이 사람이 만든거였다구여?                                                             20\n",
       "어몽어스 VR좀비2(SCP) 8화 [어몽어스 애니메이션] / [AMONG US ANIMATION]                                            21\n",
       "여행만 가면 시작되는 선넘는 복불복 게임ㅋㅋㅋ 이번에는 또 무슨일이 벌어질까ㅋㅋㅋ                                                     21\n",
       "오늘은 간단하게 계란 한 판 먹을게요                                                                              20\n",
       "외국인 최초로 군부대 면회를 갔더니 부대에서 보인 충격적인 반응                                                               21\n",
       "웅이 혼자 자취하는 데 식비 30인분 나왔읍니다 l [택슐랭가이드 시즌 2 EP.3]                                                   20\n",
       "유튜브를 8일간 업로드하지못한 이유                                                                               20\n",
       "컵라면 먹을 때 절대 일어날리 없는 상황들 ㅋㅋㅋ                                                                       24\n",
       "타짜의 야바위 기술을 일반인이 캐치 할 수 있을까???                                           20\n",
       "퇴근 10분전 좋소회의  - 【좋좋소 Ep.16】                                                                       20\n",
       "한국에 시집간 딸을 보러 온 외국 부모님이 문화충격 받은 이유                                                                20\n",
       "황의조가 프랑스 감독 편견을 완전히 깨버렸던 경기                                                                       21\n",
       "＂그렇게 상호명 말하면 안 돼요＂ 넵! 연땡 사장님과 전화 연결📞 [골목식당|SBS 210526 방송]                                         20\n",
       "dtype: int64"
      ]
     },
     "execution_count": 148,
     "metadata": {},
     "output_type": "execute_result"
    }
   ],
   "source": [
    "df10 = df[[\"title\", \"trending_date2\"]]\n",
    "asdf = df10.groupby(\"title\").size() \n",
    "asdf[asdf >= 20]"
   ]
  },
  {
   "cell_type": "code",
   "execution_count": 151,
   "id": "62003fc0-7bdd-4eb2-97c3-6eb7da80f5a3",
   "metadata": {},
   "outputs": [
    {
     "data": {
      "text/plain": [
       "40"
      ]
     },
     "execution_count": 151,
     "metadata": {},
     "output_type": "execute_result"
    }
   ],
   "source": [
    "#이게정답이긴함\n",
    "answer= (df[['title','channelId']].value_counts()>=20).sum()\n",
    "answer"
   ]
  },
  {
   "cell_type": "code",
   "execution_count": null,
   "id": "98cb09bc-f65c-42e9-95f5-fe660af2ff71",
   "metadata": {},
   "outputs": [],
   "source": []
  }
 ],
 "metadata": {
  "kernelspec": {
   "display_name": "Python 3 (ipykernel)",
   "language": "python",
   "name": "python3"
  },
  "language_info": {
   "codemirror_mode": {
    "name": "ipython",
    "version": 3
   },
   "file_extension": ".py",
   "mimetype": "text/x-python",
   "name": "python",
   "nbconvert_exporter": "python",
   "pygments_lexer": "ipython3",
   "version": "3.11.0"
  }
 },
 "nbformat": 4,
 "nbformat_minor": 5
}
